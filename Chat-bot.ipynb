{
 "cells": [
  {
   "cell_type": "markdown",
   "metadata": {},
   "source": [
    "## Loading the Data"
   ]
  },
  {
   "cell_type": "code",
   "execution_count": 1,
   "metadata": {},
   "outputs": [],
   "source": [
    "import pickle\n",
    "import numpy as np"
   ]
  },
  {
   "cell_type": "code",
   "execution_count": 2,
   "metadata": {},
   "outputs": [],
   "source": [
    "with open(\"train_qa.txt\", \"rb\") as fp:\n",
    "    train_data =  pickle.load(fp)"
   ]
  },
  {
   "cell_type": "code",
   "execution_count": 3,
   "metadata": {},
   "outputs": [],
   "source": [
    "with open(\"test_qa.txt\", \"rb\") as fp:\n",
    "    test_data =  pickle.load(fp)"
   ]
  },
  {
   "cell_type": "markdown",
   "metadata": {},
   "source": [
    "## Exploring the Format of the Data"
   ]
  },
  {
   "cell_type": "code",
   "execution_count": 4,
   "metadata": {},
   "outputs": [
    {
     "data": {
      "text/plain": [
       "list"
      ]
     },
     "execution_count": 4,
     "metadata": {},
     "output_type": "execute_result"
    }
   ],
   "source": [
    "type(test_data)"
   ]
  },
  {
   "cell_type": "code",
   "execution_count": 5,
   "metadata": {},
   "outputs": [
    {
     "data": {
      "text/plain": [
       "list"
      ]
     },
     "execution_count": 5,
     "metadata": {},
     "output_type": "execute_result"
    }
   ],
   "source": [
    "type(train_data)"
   ]
  },
  {
   "cell_type": "code",
   "execution_count": 6,
   "metadata": {},
   "outputs": [
    {
     "data": {
      "text/plain": [
       "1000"
      ]
     },
     "execution_count": 6,
     "metadata": {},
     "output_type": "execute_result"
    }
   ],
   "source": [
    "len(test_data)"
   ]
  },
  {
   "cell_type": "code",
   "execution_count": 7,
   "metadata": {},
   "outputs": [
    {
     "data": {
      "text/plain": [
       "10000"
      ]
     },
     "execution_count": 7,
     "metadata": {},
     "output_type": "execute_result"
    }
   ],
   "source": [
    "len(train_data)"
   ]
  },
  {
   "cell_type": "code",
   "execution_count": 8,
   "metadata": {},
   "outputs": [
    {
     "data": {
      "text/plain": [
       "(['Mary',\n",
       "  'moved',\n",
       "  'to',\n",
       "  'the',\n",
       "  'bathroom',\n",
       "  '.',\n",
       "  'Sandra',\n",
       "  'journeyed',\n",
       "  'to',\n",
       "  'the',\n",
       "  'bedroom',\n",
       "  '.'],\n",
       " ['Is', 'Sandra', 'in', 'the', 'hallway', '?'],\n",
       " 'no')"
      ]
     },
     "execution_count": 8,
     "metadata": {},
     "output_type": "execute_result"
    }
   ],
   "source": [
    "train_data[0]"
   ]
  },
  {
   "cell_type": "code",
   "execution_count": 9,
   "metadata": {},
   "outputs": [
    {
     "data": {
      "text/plain": [
       "'Mary moved to the bathroom . Sandra journeyed to the bedroom .'"
      ]
     },
     "execution_count": 9,
     "metadata": {},
     "output_type": "execute_result"
    }
   ],
   "source": [
    "' '.join(train_data[0][0])"
   ]
  },
  {
   "cell_type": "code",
   "execution_count": 10,
   "metadata": {},
   "outputs": [
    {
     "data": {
      "text/plain": [
       "'Is Sandra in the hallway ?'"
      ]
     },
     "execution_count": 10,
     "metadata": {},
     "output_type": "execute_result"
    }
   ],
   "source": [
    "' '.join(train_data[0][1])"
   ]
  },
  {
   "cell_type": "code",
   "execution_count": 11,
   "metadata": {},
   "outputs": [
    {
     "data": {
      "text/plain": [
       "'no'"
      ]
     },
     "execution_count": 11,
     "metadata": {},
     "output_type": "execute_result"
    }
   ],
   "source": [
    "train_data[0][2]"
   ]
  },
  {
   "cell_type": "markdown",
   "metadata": {},
   "source": [
    "## Setting up Vocabulary of All Words"
   ]
  },
  {
   "cell_type": "code",
   "execution_count": 12,
   "metadata": {},
   "outputs": [],
   "source": [
    "# Create a set that holds the vocab words\n",
    "vocab = set()"
   ]
  },
  {
   "cell_type": "code",
   "execution_count": 13,
   "metadata": {},
   "outputs": [],
   "source": [
    "all_data = test_data + train_data"
   ]
  },
  {
   "cell_type": "code",
   "execution_count": 14,
   "metadata": {},
   "outputs": [],
   "source": [
    "for story, question , answer in all_data:\n",
    "    vocab = vocab.union(set(story))\n",
    "    vocab = vocab.union(set(question))"
   ]
  },
  {
   "cell_type": "code",
   "execution_count": 15,
   "metadata": {},
   "outputs": [],
   "source": [
    "vocab.add('no')\n",
    "vocab.add('yes')"
   ]
  },
  {
   "cell_type": "code",
   "execution_count": 16,
   "metadata": {},
   "outputs": [
    {
     "data": {
      "text/plain": [
       "{'.',\n",
       " '?',\n",
       " 'Daniel',\n",
       " 'Is',\n",
       " 'John',\n",
       " 'Mary',\n",
       " 'Sandra',\n",
       " 'apple',\n",
       " 'back',\n",
       " 'bathroom',\n",
       " 'bedroom',\n",
       " 'discarded',\n",
       " 'down',\n",
       " 'dropped',\n",
       " 'football',\n",
       " 'garden',\n",
       " 'got',\n",
       " 'grabbed',\n",
       " 'hallway',\n",
       " 'in',\n",
       " 'journeyed',\n",
       " 'kitchen',\n",
       " 'left',\n",
       " 'milk',\n",
       " 'moved',\n",
       " 'no',\n",
       " 'office',\n",
       " 'picked',\n",
       " 'put',\n",
       " 'the',\n",
       " 'there',\n",
       " 'to',\n",
       " 'took',\n",
       " 'travelled',\n",
       " 'up',\n",
       " 'went',\n",
       " 'yes'}"
      ]
     },
     "execution_count": 16,
     "metadata": {},
     "output_type": "execute_result"
    }
   ],
   "source": [
    "vocab"
   ]
  },
  {
   "cell_type": "code",
   "execution_count": 17,
   "metadata": {},
   "outputs": [],
   "source": [
    "vocab_len = len(vocab) + 1 #we add an extra space to hold a 0 for Keras's pad_sequences"
   ]
  },
  {
   "cell_type": "code",
   "execution_count": 18,
   "metadata": {},
   "outputs": [
    {
     "data": {
      "text/plain": [
       "[12,\n",
       " 23,\n",
       " 35,\n",
       " 47,\n",
       " 59,\n",
       " 13,\n",
       " 26,\n",
       " 37,\n",
       " 50,\n",
       " 62,\n",
       " 12,\n",
       " 24,\n",
       " 37,\n",
       " 49,\n",
       " 60,\n",
       " 12,\n",
       " 25,\n",
       " 38,\n",
       " 50,\n",
       " 62,\n",
       " 12,\n",
       " 24,\n",
       " 36,\n",
       " 47,\n",
       " 59,\n",
       " 12,\n",
       " 25,\n",
       " 36,\n",
       " 48,\n",
       " 59,\n",
       " 12,\n",
       " 26,\n",
       " 39,\n",
       " 51,\n",
       " 63,\n",
       " 13,\n",
       " 24,\n",
       " 37,\n",
       " 50,\n",
       " 62,\n",
       " 13,\n",
       " 26,\n",
       " 38,\n",
       " 50,\n",
       " 63,\n",
       " 13,\n",
       " 25,\n",
       " 36,\n",
       " 49,\n",
       " 61,\n",
       " 13,\n",
       " 26,\n",
       " 39,\n",
       " 51,\n",
       " 64,\n",
       " 13,\n",
       " 25,\n",
       " 37,\n",
       " 50,\n",
       " 62,\n",
       " 13,\n",
       " 25,\n",
       " 37,\n",
       " 50,\n",
       " 61,\n",
       " 12,\n",
       " 25,\n",
       " 38,\n",
       " 50,\n",
       " 62,\n",
       " 12,\n",
       " 25,\n",
       " 37,\n",
       " 50,\n",
       " 61,\n",
       " 12,\n",
       " 25,\n",
       " 36,\n",
       " 48,\n",
       " 60,\n",
       " 12,\n",
       " 24,\n",
       " 36,\n",
       " 48,\n",
       " 60,\n",
       " 13,\n",
       " 25,\n",
       " 37,\n",
       " 49,\n",
       " 60,\n",
       " 13,\n",
       " 25,\n",
       " 39,\n",
       " 51,\n",
       " 64,\n",
       " 12,\n",
       " 25,\n",
       " 37,\n",
       " 49,\n",
       " 61,\n",
       " 12,\n",
       " 25,\n",
       " 38,\n",
       " 50,\n",
       " 61,\n",
       " 12,\n",
       " 24,\n",
       " 36,\n",
       " 49,\n",
       " 62,\n",
       " 13,\n",
       " 25,\n",
       " 37,\n",
       " 50,\n",
       " 62,\n",
       " 12,\n",
       " 23,\n",
       " 35,\n",
       " 47,\n",
       " 59,\n",
       " 12,\n",
       " 25,\n",
       " 37,\n",
       " 48,\n",
       " 73,\n",
       " 12,\n",
       " 24,\n",
       " 37,\n",
       " 49,\n",
       " 61,\n",
       " 12,\n",
       " 24,\n",
       " 37,\n",
       " 49,\n",
       " 62,\n",
       " 14,\n",
       " 26,\n",
       " 37,\n",
       " 49,\n",
       " 62,\n",
       " 12,\n",
       " 23,\n",
       " 35,\n",
       " 48,\n",
       " 59,\n",
       " 12,\n",
       " 24,\n",
       " 36,\n",
       " 49,\n",
       " 61,\n",
       " 13,\n",
       " 25,\n",
       " 37,\n",
       " 49,\n",
       " 61,\n",
       " 12,\n",
       " 25,\n",
       " 37,\n",
       " 50,\n",
       " 62,\n",
       " 12,\n",
       " 24,\n",
       " 36,\n",
       " 47,\n",
       " 58,\n",
       " 12,\n",
       " 24,\n",
       " 36,\n",
       " 48,\n",
       " 61,\n",
       " 25,\n",
       " 38,\n",
       " 50,\n",
       " 62,\n",
       " 74,\n",
       " 13,\n",
       " 25,\n",
       " 37,\n",
       " 49,\n",
       " 62,\n",
       " 12,\n",
       " 24,\n",
       " 37,\n",
       " 49,\n",
       " 62,\n",
       " 12,\n",
       " 24,\n",
       " 36,\n",
       " 48,\n",
       " 60,\n",
       " 12,\n",
       " 24,\n",
       " 36,\n",
       " 48,\n",
       " 61,\n",
       " 12,\n",
       " 25,\n",
       " 36,\n",
       " 50,\n",
       " 62,\n",
       " 24,\n",
       " 36,\n",
       " 49,\n",
       " 61,\n",
       " 74,\n",
       " 12,\n",
       " 24,\n",
       " 36,\n",
       " 47,\n",
       " 59,\n",
       " 13,\n",
       " 25,\n",
       " 38,\n",
       " 50,\n",
       " 62,\n",
       " 12,\n",
       " 25,\n",
       " 37,\n",
       " 49,\n",
       " 61,\n",
       " 12,\n",
       " 24,\n",
       " 36,\n",
       " 48,\n",
       " 61,\n",
       " 13,\n",
       " 25,\n",
       " 37,\n",
       " 48,\n",
       " 61,\n",
       " 13,\n",
       " 26,\n",
       " 39,\n",
       " 52,\n",
       " 63,\n",
       " 13,\n",
       " 27,\n",
       " 40,\n",
       " 51,\n",
       " 63,\n",
       " 12,\n",
       " 24,\n",
       " 36,\n",
       " 48,\n",
       " 59,\n",
       " 12,\n",
       " 24,\n",
       " 36,\n",
       " 47,\n",
       " 58,\n",
       " 12,\n",
       " 23,\n",
       " 35,\n",
       " 47,\n",
       " 59,\n",
       " 12,\n",
       " 25,\n",
       " 38,\n",
       " 50,\n",
       " 62,\n",
       " 12,\n",
       " 24,\n",
       " 35,\n",
       " 47,\n",
       " 60,\n",
       " 13,\n",
       " 26,\n",
       " 38,\n",
       " 51,\n",
       " 63,\n",
       " 12,\n",
       " 24,\n",
       " 36,\n",
       " 48,\n",
       " 61,\n",
       " 12,\n",
       " 24,\n",
       " 36,\n",
       " 48,\n",
       " 60,\n",
       " 13,\n",
       " 25,\n",
       " 38,\n",
       " 49,\n",
       " 62,\n",
       " 12,\n",
       " 24,\n",
       " 35,\n",
       " 47,\n",
       " 59,\n",
       " 12,\n",
       " 24,\n",
       " 36,\n",
       " 48,\n",
       " 58,\n",
       " 12,\n",
       " 24,\n",
       " 36,\n",
       " 48,\n",
       " 61,\n",
       " 13,\n",
       " 26,\n",
       " 38,\n",
       " 50,\n",
       " 63,\n",
       " 24,\n",
       " 37,\n",
       " 49,\n",
       " 62,\n",
       " 74,\n",
       " 12,\n",
       " 24,\n",
       " 36,\n",
       " 49,\n",
       " 61,\n",
       " 13,\n",
       " 26,\n",
       " 39,\n",
       " 51,\n",
       " 63,\n",
       " 12,\n",
       " 24,\n",
       " 36,\n",
       " 48,\n",
       " 60,\n",
       " 12,\n",
       " 24,\n",
       " 36,\n",
       " 47,\n",
       " 59,\n",
       " 13,\n",
       " 26,\n",
       " 38,\n",
       " 51,\n",
       " 64,\n",
       " 12,\n",
       " 24,\n",
       " 37,\n",
       " 51,\n",
       " 63,\n",
       " 13,\n",
       " 25,\n",
       " 37,\n",
       " 50,\n",
       " 62,\n",
       " 12,\n",
       " 24,\n",
       " 37,\n",
       " 50,\n",
       " 62,\n",
       " 12,\n",
       " 25,\n",
       " 38,\n",
       " 48,\n",
       " 60,\n",
       " 12,\n",
       " 25,\n",
       " 37,\n",
       " 50,\n",
       " 62,\n",
       " 13,\n",
       " 24,\n",
       " 37,\n",
       " 49,\n",
       " 63,\n",
       " 12,\n",
       " 23,\n",
       " 36,\n",
       " 49,\n",
       " 61,\n",
       " 13,\n",
       " 24,\n",
       " 37,\n",
       " 60,\n",
       " 71,\n",
       " 12,\n",
       " 24,\n",
       " 35,\n",
       " 47,\n",
       " 60,\n",
       " 12,\n",
       " 24,\n",
       " 38,\n",
       " 50,\n",
       " 62,\n",
       " 36,\n",
       " 48,\n",
       " 61,\n",
       " 73,\n",
       " 86,\n",
       " 12,\n",
       " 24,\n",
       " 37,\n",
       " 49,\n",
       " 61,\n",
       " 13,\n",
       " 25,\n",
       " 37,\n",
       " 49,\n",
       " 60,\n",
       " 13,\n",
       " 25,\n",
       " 36,\n",
       " 47,\n",
       " 59,\n",
       " 13,\n",
       " 25,\n",
       " 38,\n",
       " 49,\n",
       " 62,\n",
       " 24,\n",
       " 37,\n",
       " 48,\n",
       " 60,\n",
       " 72,\n",
       " 13,\n",
       " 25,\n",
       " 37,\n",
       " 49,\n",
       " 61,\n",
       " 12,\n",
       " 24,\n",
       " 37,\n",
       " 49,\n",
       " 61,\n",
       " 12,\n",
       " 24,\n",
       " 36,\n",
       " 48,\n",
       " 62,\n",
       " 12,\n",
       " 25,\n",
       " 38,\n",
       " 50,\n",
       " 62,\n",
       " 12,\n",
       " 23,\n",
       " 35,\n",
       " 49,\n",
       " 60,\n",
       " 14,\n",
       " 26,\n",
       " 39,\n",
       " 51,\n",
       " 63,\n",
       " 13,\n",
       " 25,\n",
       " 36,\n",
       " 49,\n",
       " 62,\n",
       " 13,\n",
       " 26,\n",
       " 38,\n",
       " 50,\n",
       " 61,\n",
       " 13,\n",
       " 25,\n",
       " 38,\n",
       " 50,\n",
       " 62,\n",
       " 13,\n",
       " 26,\n",
       " 39,\n",
       " 51,\n",
       " 63,\n",
       " 12,\n",
       " 25,\n",
       " 47,\n",
       " 61,\n",
       " 74,\n",
       " 13,\n",
       " 26,\n",
       " 38,\n",
       " 50,\n",
       " 62,\n",
       " 12,\n",
       " 24,\n",
       " 36,\n",
       " 49,\n",
       " 62,\n",
       " 12,\n",
       " 24,\n",
       " 37,\n",
       " 49,\n",
       " 61,\n",
       " 12,\n",
       " 25,\n",
       " 37,\n",
       " 50,\n",
       " 61,\n",
       " 12,\n",
       " 25,\n",
       " 38,\n",
       " 50,\n",
       " 63,\n",
       " 12,\n",
       " 24,\n",
       " 37,\n",
       " 50,\n",
       " 62,\n",
       " 12,\n",
       " 24,\n",
       " 36,\n",
       " 48,\n",
       " 60,\n",
       " 12,\n",
       " 24,\n",
       " 37,\n",
       " 49,\n",
       " 62,\n",
       " 13,\n",
       " 25,\n",
       " 37,\n",
       " 49,\n",
       " 62,\n",
       " 12,\n",
       " 24,\n",
       " 36,\n",
       " 49,\n",
       " 60,\n",
       " 25,\n",
       " 36,\n",
       " 48,\n",
       " 61,\n",
       " 73,\n",
       " 12,\n",
       " 24,\n",
       " 36,\n",
       " 48,\n",
       " 60,\n",
       " 12,\n",
       " 24,\n",
       " 35,\n",
       " 47,\n",
       " 60,\n",
       " 12,\n",
       " 25,\n",
       " 38,\n",
       " 51,\n",
       " 65,\n",
       " 12,\n",
       " 25,\n",
       " 37,\n",
       " 50,\n",
       " 62,\n",
       " 12,\n",
       " 24,\n",
       " 35,\n",
       " 48,\n",
       " 61,\n",
       " 13,\n",
       " 27,\n",
       " 39,\n",
       " 51,\n",
       " 62,\n",
       " 12,\n",
       " 24,\n",
       " 37,\n",
       " 49,\n",
       " 61,\n",
       " 12,\n",
       " 24,\n",
       " 37,\n",
       " 48,\n",
       " 60,\n",
       " 13,\n",
       " 25,\n",
       " 38,\n",
       " 50,\n",
       " 62,\n",
       " 12,\n",
       " 24,\n",
       " 37,\n",
       " 49,\n",
       " 62,\n",
       " 12,\n",
       " 23,\n",
       " 35,\n",
       " 47,\n",
       " 59,\n",
       " 12,\n",
       " 24,\n",
       " 36,\n",
       " 49,\n",
       " 61,\n",
       " 24,\n",
       " 37,\n",
       " 49,\n",
       " 61,\n",
       " 73,\n",
       " 12,\n",
       " 24,\n",
       " 37,\n",
       " 49,\n",
       " 61,\n",
       " 13,\n",
       " 26,\n",
       " 38,\n",
       " 50,\n",
       " 61,\n",
       " 12,\n",
       " 24,\n",
       " 36,\n",
       " 49,\n",
       " 61,\n",
       " 27,\n",
       " 38,\n",
       " 50,\n",
       " 61,\n",
       " 73,\n",
       " 12,\n",
       " 26,\n",
       " 37,\n",
       " 50,\n",
       " 63,\n",
       " 12,\n",
       " 24,\n",
       " 36,\n",
       " 48,\n",
       " 59,\n",
       " 12,\n",
       " 24,\n",
       " 37,\n",
       " 48,\n",
       " 60,\n",
       " 13,\n",
       " 25,\n",
       " 37,\n",
       " 48,\n",
       " 61,\n",
       " 12,\n",
       " 24,\n",
       " 36,\n",
       " 48,\n",
       " 60,\n",
       " 12,\n",
       " 25,\n",
       " 37,\n",
       " 49,\n",
       " 63,\n",
       " 13,\n",
       " 25,\n",
       " 37,\n",
       " 49,\n",
       " 61,\n",
       " 12,\n",
       " 24,\n",
       " 36,\n",
       " 48,\n",
       " 61,\n",
       " 12,\n",
       " 24,\n",
       " 37,\n",
       " 50,\n",
       " 62,\n",
       " 13,\n",
       " 25,\n",
       " 37,\n",
       " 50,\n",
       " 62,\n",
       " 14,\n",
       " 27,\n",
       " 39,\n",
       " 51,\n",
       " 62,\n",
       " 13,\n",
       " 25,\n",
       " 37,\n",
       " 49,\n",
       " 60,\n",
       " 12,\n",
       " 25,\n",
       " 37,\n",
       " 49,\n",
       " 63,\n",
       " 24,\n",
       " 36,\n",
       " 47,\n",
       " 59,\n",
       " 71,\n",
       " 13,\n",
       " 25,\n",
       " 37,\n",
       " 50,\n",
       " 62,\n",
       " 13,\n",
       " 24,\n",
       " 36,\n",
       " 48,\n",
       " 61,\n",
       " 23,\n",
       " 34,\n",
       " 46,\n",
       " 58,\n",
       " 70,\n",
       " 13,\n",
       " 25,\n",
       " 38,\n",
       " 52,\n",
       " 65,\n",
       " 12,\n",
       " 24,\n",
       " 36,\n",
       " 47,\n",
       " 60,\n",
       " 12,\n",
       " 26,\n",
       " 38,\n",
       " 51,\n",
       " 63,\n",
       " 12,\n",
       " 25,\n",
       " 38,\n",
       " 49,\n",
       " 62,\n",
       " 13,\n",
       " 25,\n",
       " 38,\n",
       " 49,\n",
       " 62,\n",
       " 12,\n",
       " 24,\n",
       " 36,\n",
       " 49,\n",
       " 61,\n",
       " 12,\n",
       " 24,\n",
       " 37,\n",
       " 50,\n",
       " 62,\n",
       " 12,\n",
       " 24,\n",
       " 38,\n",
       " 51,\n",
       " 63,\n",
       " 12,\n",
       " 24,\n",
       " 36,\n",
       " 48,\n",
       " 62,\n",
       " 13,\n",
       " 25,\n",
       " 37,\n",
       " 49,\n",
       " 61,\n",
       " 12,\n",
       " 24,\n",
       " 38,\n",
       " 50,\n",
       " 61,\n",
       " 35,\n",
       " 47,\n",
       " 60,\n",
       " 72,\n",
       " 84,\n",
       " 12,\n",
       " 24,\n",
       " 36,\n",
       " 49,\n",
       " 61,\n",
       " 12,\n",
       " 24,\n",
       " 35,\n",
       " 48,\n",
       " 60,\n",
       " 12,\n",
       " 24,\n",
       " 36,\n",
       " 49,\n",
       " 60,\n",
       " 12,\n",
       " 25,\n",
       " 37,\n",
       " 49,\n",
       " 62,\n",
       " 12,\n",
       " 24,\n",
       " 36,\n",
       " 48,\n",
       " 60,\n",
       " 13,\n",
       " 26,\n",
       " 37,\n",
       " 50,\n",
       " 62,\n",
       " 13,\n",
       " 25,\n",
       " 38,\n",
       " 50,\n",
       " 64,\n",
       " 23,\n",
       " 35,\n",
       " 47,\n",
       " 60,\n",
       " 73,\n",
       " 12,\n",
       " 24,\n",
       " 37,\n",
       " 49,\n",
       " 61,\n",
       " 12,\n",
       " 24,\n",
       " 36,\n",
       " 49,\n",
       " 62,\n",
       " 12,\n",
       " 24,\n",
       " 37,\n",
       " 49,\n",
       " 61,\n",
       " 12,\n",
       " 25,\n",
       " 38,\n",
       " 50,\n",
       " 62,\n",
       " 14,\n",
       " 25,\n",
       " 37,\n",
       " 49,\n",
       " 61,\n",
       " 13,\n",
       " 26,\n",
       " 38,\n",
       " 50,\n",
       " 62,\n",
       " 12,\n",
       " 23,\n",
       " 35,\n",
       " 47,\n",
       " 58,\n",
       " 12,\n",
       " 24,\n",
       " 37,\n",
       " 49,\n",
       " 61,\n",
       " 25,\n",
       " 36,\n",
       " 48,\n",
       " 60,\n",
       " 71,\n",
       " 24,\n",
       " 38,\n",
       " 50,\n",
       " 62,\n",
       " 75,\n",
       " 13,\n",
       " 25,\n",
       " 36,\n",
       " 47,\n",
       " 59,\n",
       " 24,\n",
       " 37,\n",
       " 50,\n",
       " 61,\n",
       " 74,\n",
       " 12,\n",
       " 25,\n",
       " 38,\n",
       " 50,\n",
       " 64,\n",
       " 13,\n",
       " 25,\n",
       " 37,\n",
       " 49,\n",
       " 61,\n",
       " 12,\n",
       " 24,\n",
       " 36,\n",
       " 48,\n",
       " 61,\n",
       " 12,\n",
       " 25,\n",
       " 38,\n",
       " 51,\n",
       " 64,\n",
       " 12,\n",
       " 24,\n",
       " 36,\n",
       " 49,\n",
       " 60,\n",
       " 12,\n",
       " 25,\n",
       " 38,\n",
       " 50,\n",
       " 62,\n",
       " 12,\n",
       " 25,\n",
       " 39,\n",
       " 51,\n",
       " 63,\n",
       " 12,\n",
       " 24,\n",
       " 36,\n",
       " 49,\n",
       " 61,\n",
       " 12,\n",
       " 26,\n",
       " 39,\n",
       " 51,\n",
       " 63,\n",
       " 13,\n",
       " 26,\n",
       " 38,\n",
       " 49,\n",
       " 60,\n",
       " 37,\n",
       " 48,\n",
       " 60,\n",
       " 73,\n",
       " 83,\n",
       " 12,\n",
       " 25,\n",
       " 37,\n",
       " 49,\n",
       " 61,\n",
       " 13,\n",
       " 25,\n",
       " 38,\n",
       " 51,\n",
       " 64,\n",
       " 12,\n",
       " 25,\n",
       " 39,\n",
       " 51,\n",
       " 63,\n",
       " 23,\n",
       " 36,\n",
       " 47,\n",
       " 59,\n",
       " 71,\n",
       " 13,\n",
       " 25,\n",
       " 37,\n",
       " 50,\n",
       " 62,\n",
       " 13,\n",
       " 25,\n",
       " 38,\n",
       " 50,\n",
       " 62,\n",
       " 36,\n",
       " 47,\n",
       " 59,\n",
       " 71,\n",
       " 84,\n",
       " 13,\n",
       " 25,\n",
       " 37,\n",
       " 50,\n",
       " 62,\n",
       " 12,\n",
       " 25,\n",
       " 37,\n",
       " 51,\n",
       " 63,\n",
       " 13,\n",
       " 26,\n",
       " 38,\n",
       " 52,\n",
       " 64,\n",
       " 12,\n",
       " 24,\n",
       " 37,\n",
       " 49,\n",
       " 60,\n",
       " 12,\n",
       " 24,\n",
       " 36,\n",
       " 47,\n",
       " 60,\n",
       " 13,\n",
       " 25,\n",
       " 36,\n",
       " 49,\n",
       " 61,\n",
       " 13,\n",
       " 25,\n",
       " 38,\n",
       " 50,\n",
       " 62,\n",
       " 12,\n",
       " 24,\n",
       " 38,\n",
       " 51,\n",
       " 63,\n",
       " 13,\n",
       " 25,\n",
       " 38,\n",
       " 50,\n",
       " 62,\n",
       " 13,\n",
       " 25,\n",
       " 37,\n",
       " 49,\n",
       " 60,\n",
       " 12,\n",
       " 25,\n",
       " 36,\n",
       " 47,\n",
       " 60,\n",
       " ...]"
      ]
     },
     "execution_count": 18,
     "metadata": {},
     "output_type": "execute_result"
    }
   ],
   "source": [
    "[len(data[0]) for data in all_data]"
   ]
  },
  {
   "cell_type": "code",
   "execution_count": 19,
   "metadata": {},
   "outputs": [],
   "source": [
    "max_story_len = max([len(data[0]) for data in all_data])"
   ]
  },
  {
   "cell_type": "code",
   "execution_count": 20,
   "metadata": {},
   "outputs": [
    {
     "data": {
      "text/plain": [
       "156"
      ]
     },
     "execution_count": 20,
     "metadata": {},
     "output_type": "execute_result"
    }
   ],
   "source": [
    "max_story_len"
   ]
  },
  {
   "cell_type": "code",
   "execution_count": 21,
   "metadata": {},
   "outputs": [],
   "source": [
    "max_question_len = max([len(data[1]) for data in all_data])"
   ]
  },
  {
   "cell_type": "code",
   "execution_count": 22,
   "metadata": {},
   "outputs": [
    {
     "data": {
      "text/plain": [
       "6"
      ]
     },
     "execution_count": 22,
     "metadata": {},
     "output_type": "execute_result"
    }
   ],
   "source": [
    "max_question_len"
   ]
  },
  {
   "cell_type": "markdown",
   "metadata": {},
   "source": [
    "## Vectorizing the Data"
   ]
  },
  {
   "cell_type": "code",
   "execution_count": 23,
   "metadata": {},
   "outputs": [
    {
     "data": {
      "text/plain": [
       "{'.',\n",
       " '?',\n",
       " 'Daniel',\n",
       " 'Is',\n",
       " 'John',\n",
       " 'Mary',\n",
       " 'Sandra',\n",
       " 'apple',\n",
       " 'back',\n",
       " 'bathroom',\n",
       " 'bedroom',\n",
       " 'discarded',\n",
       " 'down',\n",
       " 'dropped',\n",
       " 'football',\n",
       " 'garden',\n",
       " 'got',\n",
       " 'grabbed',\n",
       " 'hallway',\n",
       " 'in',\n",
       " 'journeyed',\n",
       " 'kitchen',\n",
       " 'left',\n",
       " 'milk',\n",
       " 'moved',\n",
       " 'no',\n",
       " 'office',\n",
       " 'picked',\n",
       " 'put',\n",
       " 'the',\n",
       " 'there',\n",
       " 'to',\n",
       " 'took',\n",
       " 'travelled',\n",
       " 'up',\n",
       " 'went',\n",
       " 'yes'}"
      ]
     },
     "execution_count": 23,
     "metadata": {},
     "output_type": "execute_result"
    }
   ],
   "source": [
    "vocab"
   ]
  },
  {
   "cell_type": "code",
   "execution_count": 24,
   "metadata": {},
   "outputs": [],
   "source": [
    "# Reserve 0 for pad_sequences\n",
    "vocab_size = len(vocab) + 1"
   ]
  },
  {
   "cell_type": "code",
   "execution_count": 25,
   "metadata": {},
   "outputs": [],
   "source": [
    "from keras.preprocessing.sequence import pad_sequences\n",
    "from keras.preprocessing.text import Tokenizer"
   ]
  },
  {
   "cell_type": "code",
   "execution_count": 26,
   "metadata": {},
   "outputs": [],
   "source": [
    "# integer encode sequences of words\n",
    "tokenizer = Tokenizer(filters=[])\n",
    "tokenizer.fit_on_texts(vocab)"
   ]
  },
  {
   "cell_type": "code",
   "execution_count": 27,
   "metadata": {},
   "outputs": [
    {
     "data": {
      "text/plain": [
       "{'john': 1,\n",
       " 'up': 2,\n",
       " 'yes': 3,\n",
       " 'journeyed': 4,\n",
       " 'office': 5,\n",
       " 'football': 6,\n",
       " 'sandra': 7,\n",
       " 'milk': 8,\n",
       " 'to': 9,\n",
       " 'mary': 10,\n",
       " 'put': 11,\n",
       " 'there': 12,\n",
       " 'in': 13,\n",
       " 'is': 14,\n",
       " 'down': 15,\n",
       " 'left': 16,\n",
       " '?': 17,\n",
       " 'got': 18,\n",
       " 'travelled': 19,\n",
       " 'took': 20,\n",
       " 'went': 21,\n",
       " 'discarded': 22,\n",
       " 'picked': 23,\n",
       " 'bedroom': 24,\n",
       " 'apple': 25,\n",
       " 'moved': 26,\n",
       " 'bathroom': 27,\n",
       " 'no': 28,\n",
       " 'the': 29,\n",
       " 'dropped': 30,\n",
       " 'hallway': 31,\n",
       " 'daniel': 32,\n",
       " 'back': 33,\n",
       " 'grabbed': 34,\n",
       " 'kitchen': 35,\n",
       " 'garden': 36,\n",
       " '.': 37}"
      ]
     },
     "execution_count": 27,
     "metadata": {},
     "output_type": "execute_result"
    }
   ],
   "source": [
    "tokenizer.word_index"
   ]
  },
  {
   "cell_type": "code",
   "execution_count": 28,
   "metadata": {},
   "outputs": [],
   "source": [
    "train_story_text = []\n",
    "train_question_text = []\n",
    "train_answers = []\n",
    "\n",
    "for story,question,answer in train_data:\n",
    "    train_story_text.append(story)\n",
    "    train_question_text.append(question)"
   ]
  },
  {
   "cell_type": "code",
   "execution_count": 29,
   "metadata": {},
   "outputs": [],
   "source": [
    "train_story_seq = tokenizer.texts_to_sequences(train_story_text)"
   ]
  },
  {
   "cell_type": "code",
   "execution_count": 30,
   "metadata": {},
   "outputs": [
    {
     "data": {
      "text/plain": [
       "10000"
      ]
     },
     "execution_count": 30,
     "metadata": {},
     "output_type": "execute_result"
    }
   ],
   "source": [
    "len(train_story_text)"
   ]
  },
  {
   "cell_type": "code",
   "execution_count": 31,
   "metadata": {},
   "outputs": [
    {
     "data": {
      "text/plain": [
       "10000"
      ]
     },
     "execution_count": 31,
     "metadata": {},
     "output_type": "execute_result"
    }
   ],
   "source": [
    "len(train_story_seq)"
   ]
  },
  {
   "cell_type": "code",
   "execution_count": 32,
   "metadata": {},
   "outputs": [],
   "source": [
    "# word_index = tokenizer.word_index"
   ]
  },
  {
   "cell_type": "markdown",
   "metadata": {},
   "source": [
    "### Functionalize Vectorization"
   ]
  },
  {
   "cell_type": "code",
   "execution_count": 33,
   "metadata": {},
   "outputs": [],
   "source": [
    "def vectorize_stories(data, word_index=tokenizer.word_index, max_story_len=max_story_len,max_question_len=max_question_len):\n",
    "    '''\n",
    "    INPUT: \n",
    "    \n",
    "    data: consisting of Stories,Queries,and Answers\n",
    "    word_index: word index dictionary from tokenizer\n",
    "    max_story_len: the length of the longest story (used for pad_sequences function)\n",
    "    max_question_len: length of the longest question (used for pad_sequences function)\n",
    "\n",
    "\n",
    "    OUTPUT:\n",
    "    \n",
    "    Vectorizes the stories,questions, and answers into padded sequences. We first loop for every story, query , and\n",
    "    answer in the data. Then we convert the raw words to an word index value. Then we append each set to their appropriate\n",
    "    output list. Then once we have converted the words to numbers, we pad the sequences so they are all of equal length.\n",
    "    \n",
    "    Returns this in the form of a tuple (X,Xq,Y) (padded based on max lengths)\n",
    "    '''\n",
    "    \n",
    "    \n",
    "    # X = STORIES\n",
    "    X = []\n",
    "    # Xq = QUERY/QUESTION\n",
    "    Xq = []\n",
    "    # Y = CORRECT ANSWER\n",
    "    Y = []\n",
    "    \n",
    "    \n",
    "    for story, query, answer in data:\n",
    "        \n",
    "        # Grab the word index for every word in story\n",
    "        x = [word_index[word.lower()] for word in story]\n",
    "        # Grab the word index for every word in query\n",
    "        xq = [word_index[word.lower()] for word in query]\n",
    "        \n",
    "        # Grab the Answers (either Yes/No so we don't need to use list comprehension here)\n",
    "        # Index 0 is reserved so we're going to use + 1\n",
    "        y = np.zeros(len(word_index) + 1)\n",
    "        \n",
    "        # Now that y is all zeros and we know its just Yes/No , we can use numpy logic to create this assignment\n",
    "        #\n",
    "        y[word_index[answer]] = 1\n",
    "        \n",
    "        # Append each set of story,query, and answer to their respective holding lists\n",
    "        X.append(x)\n",
    "        Xq.append(xq)\n",
    "        Y.append(y)\n",
    "        \n",
    "    # Finally, pad the sequences based on their max length so the RNN can be trained on uniformly long sequences.\n",
    "        \n",
    "    # RETURN TUPLE FOR UNPACKING\n",
    "    return (pad_sequences(X, maxlen=max_story_len),pad_sequences(Xq, maxlen=max_question_len), np.array(Y))"
   ]
  },
  {
   "cell_type": "code",
   "execution_count": 34,
   "metadata": {},
   "outputs": [],
   "source": [
    "inputs_train, queries_train, answers_train = vectorize_stories(train_data)"
   ]
  },
  {
   "cell_type": "code",
   "execution_count": 35,
   "metadata": {},
   "outputs": [],
   "source": [
    "inputs_test, queries_test, answers_test = vectorize_stories(test_data)"
   ]
  },
  {
   "cell_type": "code",
   "execution_count": 36,
   "metadata": {},
   "outputs": [
    {
     "data": {
      "text/plain": [
       "array([[ 0,  0,  0, ..., 29, 24, 37],\n",
       "       [ 0,  0,  0, ..., 29, 36, 37],\n",
       "       [ 0,  0,  0, ..., 29, 36, 37],\n",
       "       ...,\n",
       "       [ 0,  0,  0, ..., 29, 25, 37],\n",
       "       [ 0,  0,  0, ..., 29, 36, 37],\n",
       "       [ 0,  0,  0, ..., 25, 12, 37]], dtype=int32)"
      ]
     },
     "execution_count": 36,
     "metadata": {},
     "output_type": "execute_result"
    }
   ],
   "source": [
    "inputs_test"
   ]
  },
  {
   "cell_type": "code",
   "execution_count": 37,
   "metadata": {},
   "outputs": [
    {
     "data": {
      "text/plain": [
       "array([[14,  1, 13, 29, 35, 17],\n",
       "       [14,  1, 13, 29, 35, 17],\n",
       "       [14,  1, 13, 29, 36, 17],\n",
       "       ...,\n",
       "       [14, 10, 13, 29, 24, 17],\n",
       "       [14,  7, 13, 29, 36, 17],\n",
       "       [14, 10, 13, 29, 36, 17]], dtype=int32)"
      ]
     },
     "execution_count": 37,
     "metadata": {},
     "output_type": "execute_result"
    }
   ],
   "source": [
    "queries_test"
   ]
  },
  {
   "cell_type": "code",
   "execution_count": 38,
   "metadata": {},
   "outputs": [
    {
     "data": {
      "text/plain": [
       "array([[0., 0., 0., ..., 0., 0., 0.],\n",
       "       [0., 0., 0., ..., 0., 0., 0.],\n",
       "       [0., 0., 0., ..., 0., 0., 0.],\n",
       "       ...,\n",
       "       [0., 0., 0., ..., 0., 0., 0.],\n",
       "       [0., 0., 0., ..., 0., 0., 0.],\n",
       "       [0., 0., 0., ..., 0., 0., 0.]])"
      ]
     },
     "execution_count": 38,
     "metadata": {},
     "output_type": "execute_result"
    }
   ],
   "source": [
    "answers_test"
   ]
  },
  {
   "cell_type": "code",
   "execution_count": 39,
   "metadata": {},
   "outputs": [
    {
     "data": {
      "text/plain": [
       "array([  0.,   0.,   0., 497.,   0.,   0.,   0.,   0.,   0.,   0.,   0.,\n",
       "         0.,   0.,   0.,   0.,   0.,   0.,   0.,   0.,   0.,   0.,   0.,\n",
       "         0.,   0.,   0.,   0.,   0.,   0., 503.,   0.,   0.,   0.,   0.,\n",
       "         0.,   0.,   0.,   0.,   0.])"
      ]
     },
     "execution_count": 39,
     "metadata": {},
     "output_type": "execute_result"
    }
   ],
   "source": [
    "sum(answers_test)"
   ]
  },
  {
   "cell_type": "code",
   "execution_count": 40,
   "metadata": {},
   "outputs": [
    {
     "data": {
      "text/plain": [
       "3"
      ]
     },
     "execution_count": 40,
     "metadata": {},
     "output_type": "execute_result"
    }
   ],
   "source": [
    "tokenizer.word_index['yes']"
   ]
  },
  {
   "cell_type": "code",
   "execution_count": 41,
   "metadata": {},
   "outputs": [
    {
     "data": {
      "text/plain": [
       "28"
      ]
     },
     "execution_count": 41,
     "metadata": {},
     "output_type": "execute_result"
    }
   ],
   "source": [
    "tokenizer.word_index['no']"
   ]
  },
  {
   "cell_type": "markdown",
   "metadata": {},
   "source": [
    "## Creating the Model"
   ]
  },
  {
   "cell_type": "code",
   "execution_count": 42,
   "metadata": {},
   "outputs": [
    {
     "name": "stdout",
     "output_type": "stream",
     "text": [
      "Requirement already satisfied: keras in /Users/surajnag/anaconda3/lib/python3.10/site-packages (2.13.1rc0)\n",
      "Note: you may need to restart the kernel to use updated packages.\n"
     ]
    }
   ],
   "source": [
    "pip install keras"
   ]
  },
  {
   "cell_type": "code",
   "execution_count": 43,
   "metadata": {},
   "outputs": [],
   "source": [
    "from keras.models import Sequential, Model\n",
    "from keras.layers import Embedding  # Update the import statement\n",
    "from keras.layers import Input, Activation, Dense, Permute, Dropout\n",
    "from keras.layers import add, dot, concatenate\n",
    "from keras.layers import LSTM"
   ]
  },
  {
   "cell_type": "markdown",
   "metadata": {},
   "source": [
    "### Placeholders for Inputs\n",
    "\n",
    "Recall we technically have two inputs, stories and questions. So we need to use placeholders. `Input()` is used to instantiate a Keras tensor.\n"
   ]
  },
  {
   "cell_type": "code",
   "execution_count": 44,
   "metadata": {},
   "outputs": [],
   "source": [
    "input_sequence = Input((max_story_len,))\n",
    "question = Input((max_question_len,))"
   ]
  },
  {
   "cell_type": "markdown",
   "metadata": {
    "collapsed": true
   },
   "source": [
    "### Building the Networks"
   ]
  },
  {
   "cell_type": "markdown",
   "metadata": {},
   "source": [
    "## Encoders\n",
    "\n",
    "### Input Encoder m"
   ]
  },
  {
   "cell_type": "code",
   "execution_count": 45,
   "metadata": {},
   "outputs": [],
   "source": [
    "# Input gets embedded to a sequence of vectors\n",
    "input_encoder_m = Sequential()\n",
    "input_encoder_m.add(Embedding(input_dim=vocab_size,output_dim=64))\n",
    "input_encoder_m.add(Dropout(0.3))\n",
    "\n",
    "# This encoder will output:\n",
    "# (samples, story_maxlen, embedding_dim)"
   ]
  },
  {
   "cell_type": "markdown",
   "metadata": {},
   "source": [
    "### Input Encoder c"
   ]
  },
  {
   "cell_type": "code",
   "execution_count": 46,
   "metadata": {},
   "outputs": [],
   "source": [
    "# embed the input into a sequence of vectors of size query_maxlen\n",
    "input_encoder_c = Sequential()\n",
    "input_encoder_c.add(Embedding(input_dim=vocab_size,output_dim=max_question_len))\n",
    "input_encoder_c.add(Dropout(0.3))\n",
    "# output: (samples, story_maxlen, query_maxlen)"
   ]
  },
  {
   "cell_type": "markdown",
   "metadata": {},
   "source": [
    "### Question Encoder"
   ]
  },
  {
   "cell_type": "code",
   "execution_count": 47,
   "metadata": {},
   "outputs": [],
   "source": [
    "# embed the question into a sequence of vectors\n",
    "question_encoder = Sequential()\n",
    "question_encoder.add(Embedding(input_dim=vocab_size,\n",
    "                               output_dim=64,\n",
    "                               input_length=max_question_len))\n",
    "question_encoder.add(Dropout(0.3))\n",
    "# output: (samples, query_maxlen, embedding_dim)"
   ]
  },
  {
   "cell_type": "markdown",
   "metadata": {},
   "source": [
    "### Encode the Sequences"
   ]
  },
  {
   "cell_type": "code",
   "execution_count": 48,
   "metadata": {},
   "outputs": [],
   "source": [
    "# encode input sequence and questions (which are indices)\n",
    "# to sequences of dense vectors\n",
    "input_encoded_m = input_encoder_m(input_sequence)\n",
    "input_encoded_c = input_encoder_c(input_sequence)\n",
    "question_encoded = question_encoder(question)"
   ]
  },
  {
   "cell_type": "markdown",
   "metadata": {},
   "source": [
    "##### Use dot product to compute the match between first input vector seq and the query"
   ]
  },
  {
   "cell_type": "code",
   "execution_count": 49,
   "metadata": {},
   "outputs": [],
   "source": [
    "# shape: `(samples, story_maxlen, query_maxlen)`\n",
    "match = dot([input_encoded_m, question_encoded], axes=(2, 2))\n",
    "match = Activation('softmax')(match)"
   ]
  },
  {
   "cell_type": "markdown",
   "metadata": {},
   "source": [
    "#### Add match matrix with the second input vector sequence"
   ]
  },
  {
   "cell_type": "code",
   "execution_count": 50,
   "metadata": {},
   "outputs": [],
   "source": [
    "response = add([match, input_encoded_c])\n",
    "response = Permute((2, 1))(response)"
   ]
  },
  {
   "cell_type": "markdown",
   "metadata": {},
   "source": [
    "#### Concatenate"
   ]
  },
  {
   "cell_type": "code",
   "execution_count": 51,
   "metadata": {},
   "outputs": [],
   "source": [
    "# concatenate the match matrix with the question vector sequence\n",
    "answer = concatenate([response, question_encoded])"
   ]
  },
  {
   "cell_type": "code",
   "execution_count": 52,
   "metadata": {},
   "outputs": [
    {
     "data": {
      "text/plain": [
       "<KerasTensor: shape=(None, 6, 220) dtype=float32 (created by layer 'concatenate')>"
      ]
     },
     "execution_count": 52,
     "metadata": {},
     "output_type": "execute_result"
    }
   ],
   "source": [
    "answer"
   ]
  },
  {
   "cell_type": "code",
   "execution_count": 53,
   "metadata": {},
   "outputs": [],
   "source": [
    "# Reduce with RNN (LSTM)\n",
    "answer = LSTM(32)(answer)  # (samples, 32)"
   ]
  },
  {
   "cell_type": "code",
   "execution_count": 54,
   "metadata": {},
   "outputs": [],
   "source": [
    "# Regularization with Dropout\n",
    "answer = Dropout(0.5)(answer)\n",
    "answer = Dense(vocab_size)(answer)  # (samples, vocab_size)"
   ]
  },
  {
   "cell_type": "code",
   "execution_count": 55,
   "metadata": {},
   "outputs": [],
   "source": [
    "# we output a probability distribution over the vocabulary\n",
    "answer = Activation('softmax')(answer)\n",
    "\n",
    "# build the final model\n",
    "model = Model([input_sequence, question], answer)\n",
    "model.compile(optimizer='rmsprop', loss='categorical_crossentropy',\n",
    "              metrics=['accuracy'])"
   ]
  },
  {
   "cell_type": "code",
   "execution_count": 56,
   "metadata": {},
   "outputs": [
    {
     "name": "stdout",
     "output_type": "stream",
     "text": [
      "Model: \"model\"\n",
      "__________________________________________________________________________________________________\n",
      " Layer (type)                Output Shape                 Param #   Connected to                  \n",
      "==================================================================================================\n",
      " input_1 (InputLayer)        [(None, 156)]                0         []                            \n",
      "                                                                                                  \n",
      " input_2 (InputLayer)        [(None, 6)]                  0         []                            \n",
      "                                                                                                  \n",
      " sequential (Sequential)     (None, None, 64)             2432      ['input_1[0][0]']             \n",
      "                                                                                                  \n",
      " sequential_2 (Sequential)   (None, 6, 64)                2432      ['input_2[0][0]']             \n",
      "                                                                                                  \n",
      " dot (Dot)                   (None, 156, 6)               0         ['sequential[0][0]',          \n",
      "                                                                     'sequential_2[0][0]']        \n",
      "                                                                                                  \n",
      " activation (Activation)     (None, 156, 6)               0         ['dot[0][0]']                 \n",
      "                                                                                                  \n",
      " sequential_1 (Sequential)   (None, None, 6)              228       ['input_1[0][0]']             \n",
      "                                                                                                  \n",
      " add (Add)                   (None, 156, 6)               0         ['activation[0][0]',          \n",
      "                                                                     'sequential_1[0][0]']        \n",
      "                                                                                                  \n",
      " permute (Permute)           (None, 6, 156)               0         ['add[0][0]']                 \n",
      "                                                                                                  \n",
      " concatenate (Concatenate)   (None, 6, 220)               0         ['permute[0][0]',             \n",
      "                                                                     'sequential_2[0][0]']        \n",
      "                                                                                                  \n",
      " lstm (LSTM)                 (None, 32)                   32384     ['concatenate[0][0]']         \n",
      "                                                                                                  \n",
      " dropout_3 (Dropout)         (None, 32)                   0         ['lstm[0][0]']                \n",
      "                                                                                                  \n",
      " dense (Dense)               (None, 38)                   1254      ['dropout_3[0][0]']           \n",
      "                                                                                                  \n",
      " activation_1 (Activation)   (None, 38)                   0         ['dense[0][0]']               \n",
      "                                                                                                  \n",
      "==================================================================================================\n",
      "Total params: 38730 (151.29 KB)\n",
      "Trainable params: 38730 (151.29 KB)\n",
      "Non-trainable params: 0 (0.00 Byte)\n",
      "__________________________________________________________________________________________________\n"
     ]
    }
   ],
   "source": [
    "model.summary()"
   ]
  },
  {
   "cell_type": "code",
   "execution_count": 57,
   "metadata": {},
   "outputs": [
    {
     "name": "stdout",
     "output_type": "stream",
     "text": [
      "Epoch 1/120\n",
      "313/313 [==============================] - 2s 4ms/step - loss: 0.9031 - accuracy: 0.4927 - val_loss: 0.6980 - val_accuracy: 0.5030\n",
      "Epoch 2/120\n",
      "313/313 [==============================] - 1s 4ms/step - loss: 0.7044 - accuracy: 0.4986 - val_loss: 0.6934 - val_accuracy: 0.4970\n",
      "Epoch 3/120\n",
      "313/313 [==============================] - 1s 4ms/step - loss: 0.6962 - accuracy: 0.5039 - val_loss: 0.6953 - val_accuracy: 0.4970\n",
      "Epoch 4/120\n",
      "313/313 [==============================] - 1s 4ms/step - loss: 0.6952 - accuracy: 0.5002 - val_loss: 0.6932 - val_accuracy: 0.5030\n",
      "Epoch 5/120\n",
      "313/313 [==============================] - 1s 4ms/step - loss: 0.6951 - accuracy: 0.4986 - val_loss: 0.6935 - val_accuracy: 0.4970\n",
      "Epoch 6/120\n",
      "313/313 [==============================] - 1s 4ms/step - loss: 0.6947 - accuracy: 0.5015 - val_loss: 0.6941 - val_accuracy: 0.4970\n",
      "Epoch 7/120\n",
      "313/313 [==============================] - 1s 4ms/step - loss: 0.6945 - accuracy: 0.4999 - val_loss: 0.6968 - val_accuracy: 0.4970\n",
      "Epoch 8/120\n",
      "313/313 [==============================] - 1s 4ms/step - loss: 0.6945 - accuracy: 0.4960 - val_loss: 0.6933 - val_accuracy: 0.5030\n",
      "Epoch 9/120\n",
      "313/313 [==============================] - 1s 4ms/step - loss: 0.6941 - accuracy: 0.5017 - val_loss: 0.6940 - val_accuracy: 0.4960\n",
      "Epoch 10/120\n",
      "313/313 [==============================] - 1s 4ms/step - loss: 0.6941 - accuracy: 0.5070 - val_loss: 0.6948 - val_accuracy: 0.4970\n",
      "Epoch 11/120\n",
      "313/313 [==============================] - 1s 4ms/step - loss: 0.6933 - accuracy: 0.5121 - val_loss: 0.6948 - val_accuracy: 0.4750\n",
      "Epoch 12/120\n",
      "313/313 [==============================] - 1s 4ms/step - loss: 0.6925 - accuracy: 0.5173 - val_loss: 0.6943 - val_accuracy: 0.5070\n",
      "Epoch 13/120\n",
      "313/313 [==============================] - 1s 4ms/step - loss: 0.6886 - accuracy: 0.5373 - val_loss: 0.6854 - val_accuracy: 0.5540\n",
      "Epoch 14/120\n",
      "313/313 [==============================] - 1s 4ms/step - loss: 0.6546 - accuracy: 0.6191 - val_loss: 0.6302 - val_accuracy: 0.6670\n",
      "Epoch 15/120\n",
      "313/313 [==============================] - 1s 4ms/step - loss: 0.6295 - accuracy: 0.6564 - val_loss: 0.6312 - val_accuracy: 0.6590\n",
      "Epoch 16/120\n",
      "313/313 [==============================] - 1s 4ms/step - loss: 0.6163 - accuracy: 0.6691 - val_loss: 0.6163 - val_accuracy: 0.6570\n",
      "Epoch 17/120\n",
      "313/313 [==============================] - 1s 4ms/step - loss: 0.6027 - accuracy: 0.6745 - val_loss: 0.6021 - val_accuracy: 0.6720\n",
      "Epoch 18/120\n",
      "313/313 [==============================] - 1s 4ms/step - loss: 0.5959 - accuracy: 0.6828 - val_loss: 0.5939 - val_accuracy: 0.6980\n",
      "Epoch 19/120\n",
      "313/313 [==============================] - 1s 4ms/step - loss: 0.5811 - accuracy: 0.6955 - val_loss: 0.5878 - val_accuracy: 0.7060\n",
      "Epoch 20/120\n",
      "313/313 [==============================] - 1s 4ms/step - loss: 0.5627 - accuracy: 0.7112 - val_loss: 0.5514 - val_accuracy: 0.7200\n",
      "Epoch 21/120\n",
      "313/313 [==============================] - 1s 4ms/step - loss: 0.5472 - accuracy: 0.7225 - val_loss: 0.5352 - val_accuracy: 0.7380\n",
      "Epoch 22/120\n",
      "313/313 [==============================] - 1s 4ms/step - loss: 0.5217 - accuracy: 0.7403 - val_loss: 0.5095 - val_accuracy: 0.7630\n",
      "Epoch 23/120\n",
      "313/313 [==============================] - 1s 4ms/step - loss: 0.5107 - accuracy: 0.7558 - val_loss: 0.5086 - val_accuracy: 0.7560\n",
      "Epoch 24/120\n",
      "313/313 [==============================] - 1s 4ms/step - loss: 0.4978 - accuracy: 0.7645 - val_loss: 0.4905 - val_accuracy: 0.7720\n",
      "Epoch 25/120\n",
      "313/313 [==============================] - 1s 4ms/step - loss: 0.4854 - accuracy: 0.7731 - val_loss: 0.4691 - val_accuracy: 0.7820\n",
      "Epoch 26/120\n",
      "313/313 [==============================] - 1s 4ms/step - loss: 0.4740 - accuracy: 0.7775 - val_loss: 0.4854 - val_accuracy: 0.7760\n",
      "Epoch 27/120\n",
      "313/313 [==============================] - 1s 4ms/step - loss: 0.4682 - accuracy: 0.7825 - val_loss: 0.4689 - val_accuracy: 0.7890\n",
      "Epoch 28/120\n",
      "313/313 [==============================] - 1s 4ms/step - loss: 0.4519 - accuracy: 0.7979 - val_loss: 0.4560 - val_accuracy: 0.7870\n",
      "Epoch 29/120\n",
      "313/313 [==============================] - 1s 4ms/step - loss: 0.4415 - accuracy: 0.7991 - val_loss: 0.4585 - val_accuracy: 0.7930\n",
      "Epoch 30/120\n",
      "313/313 [==============================] - 1s 4ms/step - loss: 0.4379 - accuracy: 0.8009 - val_loss: 0.4525 - val_accuracy: 0.7980\n",
      "Epoch 31/120\n",
      "313/313 [==============================] - 1s 4ms/step - loss: 0.4327 - accuracy: 0.8067 - val_loss: 0.4672 - val_accuracy: 0.7820\n",
      "Epoch 32/120\n",
      "313/313 [==============================] - 1s 4ms/step - loss: 0.4236 - accuracy: 0.8083 - val_loss: 0.4291 - val_accuracy: 0.7940\n",
      "Epoch 33/120\n",
      "313/313 [==============================] - 1s 4ms/step - loss: 0.4183 - accuracy: 0.8134 - val_loss: 0.4322 - val_accuracy: 0.7980\n",
      "Epoch 34/120\n",
      "313/313 [==============================] - 1s 4ms/step - loss: 0.4087 - accuracy: 0.8107 - val_loss: 0.4356 - val_accuracy: 0.7950\n",
      "Epoch 35/120\n",
      "313/313 [==============================] - 1s 4ms/step - loss: 0.4059 - accuracy: 0.8166 - val_loss: 0.4487 - val_accuracy: 0.7920\n",
      "Epoch 36/120\n",
      "313/313 [==============================] - 1s 4ms/step - loss: 0.3982 - accuracy: 0.8223 - val_loss: 0.4427 - val_accuracy: 0.8000\n",
      "Epoch 37/120\n",
      "313/313 [==============================] - 1s 4ms/step - loss: 0.3936 - accuracy: 0.8141 - val_loss: 0.4250 - val_accuracy: 0.7960\n",
      "Epoch 38/120\n",
      "313/313 [==============================] - 1s 4ms/step - loss: 0.3945 - accuracy: 0.8228 - val_loss: 0.4205 - val_accuracy: 0.8020\n",
      "Epoch 39/120\n",
      "313/313 [==============================] - 1s 4ms/step - loss: 0.3841 - accuracy: 0.8287 - val_loss: 0.4231 - val_accuracy: 0.7990\n",
      "Epoch 40/120\n",
      "313/313 [==============================] - 1s 4ms/step - loss: 0.3848 - accuracy: 0.8284 - val_loss: 0.4362 - val_accuracy: 0.7960\n",
      "Epoch 41/120\n",
      "313/313 [==============================] - 1s 4ms/step - loss: 0.3781 - accuracy: 0.8309 - val_loss: 0.4225 - val_accuracy: 0.8140\n",
      "Epoch 42/120\n",
      "313/313 [==============================] - 1s 4ms/step - loss: 0.3712 - accuracy: 0.8326 - val_loss: 0.4205 - val_accuracy: 0.8100\n",
      "Epoch 43/120\n",
      "313/313 [==============================] - 1s 4ms/step - loss: 0.3674 - accuracy: 0.8377 - val_loss: 0.4043 - val_accuracy: 0.8170\n",
      "Epoch 44/120\n",
      "313/313 [==============================] - 1s 4ms/step - loss: 0.3612 - accuracy: 0.8413 - val_loss: 0.4193 - val_accuracy: 0.8160\n",
      "Epoch 45/120\n",
      "313/313 [==============================] - 1s 4ms/step - loss: 0.3548 - accuracy: 0.8460 - val_loss: 0.3885 - val_accuracy: 0.8280\n",
      "Epoch 46/120\n",
      "313/313 [==============================] - 1s 4ms/step - loss: 0.3492 - accuracy: 0.8463 - val_loss: 0.3889 - val_accuracy: 0.8300\n",
      "Epoch 47/120\n",
      "313/313 [==============================] - 1s 4ms/step - loss: 0.3498 - accuracy: 0.8479 - val_loss: 0.3967 - val_accuracy: 0.8250\n",
      "Epoch 48/120\n",
      "313/313 [==============================] - 1s 4ms/step - loss: 0.3424 - accuracy: 0.8503 - val_loss: 0.3813 - val_accuracy: 0.8280\n",
      "Epoch 49/120\n",
      "313/313 [==============================] - 1s 4ms/step - loss: 0.3391 - accuracy: 0.8537 - val_loss: 0.3703 - val_accuracy: 0.8380\n",
      "Epoch 50/120\n",
      "313/313 [==============================] - 1s 4ms/step - loss: 0.3366 - accuracy: 0.8565 - val_loss: 0.3780 - val_accuracy: 0.8370\n",
      "Epoch 51/120\n",
      "313/313 [==============================] - 1s 4ms/step - loss: 0.3366 - accuracy: 0.8508 - val_loss: 0.3793 - val_accuracy: 0.8270\n",
      "Epoch 52/120\n",
      "313/313 [==============================] - 1s 4ms/step - loss: 0.3325 - accuracy: 0.8581 - val_loss: 0.3742 - val_accuracy: 0.8380\n",
      "Epoch 53/120\n",
      "313/313 [==============================] - 1s 4ms/step - loss: 0.3278 - accuracy: 0.8574 - val_loss: 0.3718 - val_accuracy: 0.8330\n",
      "Epoch 54/120\n",
      "313/313 [==============================] - 1s 4ms/step - loss: 0.3269 - accuracy: 0.8572 - val_loss: 0.3882 - val_accuracy: 0.8300\n",
      "Epoch 55/120\n",
      "313/313 [==============================] - 1s 4ms/step - loss: 0.3258 - accuracy: 0.8574 - val_loss: 0.3935 - val_accuracy: 0.8290\n",
      "Epoch 56/120\n",
      "313/313 [==============================] - 1s 4ms/step - loss: 0.3236 - accuracy: 0.8616 - val_loss: 0.3823 - val_accuracy: 0.8360\n",
      "Epoch 57/120\n",
      "313/313 [==============================] - 1s 4ms/step - loss: 0.3170 - accuracy: 0.8618 - val_loss: 0.3855 - val_accuracy: 0.8350\n"
     ]
    },
    {
     "name": "stdout",
     "output_type": "stream",
     "text": [
      "Epoch 58/120\n",
      "313/313 [==============================] - 1s 4ms/step - loss: 0.3209 - accuracy: 0.8617 - val_loss: 0.3822 - val_accuracy: 0.8350\n",
      "Epoch 59/120\n",
      "313/313 [==============================] - 1s 4ms/step - loss: 0.3174 - accuracy: 0.8659 - val_loss: 0.3914 - val_accuracy: 0.8350\n",
      "Epoch 60/120\n",
      "313/313 [==============================] - 1s 4ms/step - loss: 0.3145 - accuracy: 0.8614 - val_loss: 0.3690 - val_accuracy: 0.8400\n",
      "Epoch 61/120\n",
      "313/313 [==============================] - 1s 4ms/step - loss: 0.3046 - accuracy: 0.8709 - val_loss: 0.3670 - val_accuracy: 0.8390\n",
      "Epoch 62/120\n",
      "313/313 [==============================] - 1s 4ms/step - loss: 0.3028 - accuracy: 0.8693 - val_loss: 0.4170 - val_accuracy: 0.8270\n",
      "Epoch 63/120\n",
      "313/313 [==============================] - 1s 4ms/step - loss: 0.3079 - accuracy: 0.8697 - val_loss: 0.3715 - val_accuracy: 0.8330\n",
      "Epoch 64/120\n",
      "313/313 [==============================] - 1s 4ms/step - loss: 0.3113 - accuracy: 0.8661 - val_loss: 0.3742 - val_accuracy: 0.8380\n",
      "Epoch 65/120\n",
      "313/313 [==============================] - 1s 4ms/step - loss: 0.2948 - accuracy: 0.8721 - val_loss: 0.3802 - val_accuracy: 0.8410\n",
      "Epoch 66/120\n",
      "313/313 [==============================] - 1s 4ms/step - loss: 0.3042 - accuracy: 0.8680 - val_loss: 0.3718 - val_accuracy: 0.8380\n",
      "Epoch 67/120\n",
      "313/313 [==============================] - 1s 4ms/step - loss: 0.2965 - accuracy: 0.8724 - val_loss: 0.3858 - val_accuracy: 0.8470\n",
      "Epoch 68/120\n",
      "313/313 [==============================] - 1s 4ms/step - loss: 0.2970 - accuracy: 0.8735 - val_loss: 0.3811 - val_accuracy: 0.8400\n",
      "Epoch 69/120\n",
      "313/313 [==============================] - 1s 4ms/step - loss: 0.2940 - accuracy: 0.8712 - val_loss: 0.3852 - val_accuracy: 0.8390\n",
      "Epoch 70/120\n",
      "313/313 [==============================] - 1s 4ms/step - loss: 0.2897 - accuracy: 0.8711 - val_loss: 0.3895 - val_accuracy: 0.8390\n",
      "Epoch 71/120\n",
      "313/313 [==============================] - 1s 4ms/step - loss: 0.2877 - accuracy: 0.8750 - val_loss: 0.3797 - val_accuracy: 0.8400\n",
      "Epoch 72/120\n",
      "313/313 [==============================] - 1s 4ms/step - loss: 0.2941 - accuracy: 0.8752 - val_loss: 0.4459 - val_accuracy: 0.8270\n",
      "Epoch 73/120\n",
      "313/313 [==============================] - 1s 4ms/step - loss: 0.2939 - accuracy: 0.8731 - val_loss: 0.3893 - val_accuracy: 0.8370\n",
      "Epoch 74/120\n",
      "313/313 [==============================] - 1s 4ms/step - loss: 0.2856 - accuracy: 0.8769 - val_loss: 0.3937 - val_accuracy: 0.8330\n",
      "Epoch 75/120\n",
      "313/313 [==============================] - 1s 4ms/step - loss: 0.2912 - accuracy: 0.8756 - val_loss: 0.3876 - val_accuracy: 0.8300\n",
      "Epoch 76/120\n",
      "313/313 [==============================] - 1s 4ms/step - loss: 0.2862 - accuracy: 0.8760 - val_loss: 0.3744 - val_accuracy: 0.8390\n",
      "Epoch 77/120\n",
      "313/313 [==============================] - 1s 4ms/step - loss: 0.2858 - accuracy: 0.8765 - val_loss: 0.3904 - val_accuracy: 0.8410\n",
      "Epoch 78/120\n",
      "313/313 [==============================] - 1s 4ms/step - loss: 0.2872 - accuracy: 0.8774 - val_loss: 0.3877 - val_accuracy: 0.8350\n",
      "Epoch 79/120\n",
      "313/313 [==============================] - 1s 4ms/step - loss: 0.2814 - accuracy: 0.8765 - val_loss: 0.3943 - val_accuracy: 0.8410\n",
      "Epoch 80/120\n",
      "313/313 [==============================] - 1s 4ms/step - loss: 0.2812 - accuracy: 0.8764 - val_loss: 0.3800 - val_accuracy: 0.8370\n",
      "Epoch 81/120\n",
      "313/313 [==============================] - 1s 4ms/step - loss: 0.2776 - accuracy: 0.8771 - val_loss: 0.3988 - val_accuracy: 0.8360\n",
      "Epoch 82/120\n",
      "313/313 [==============================] - 1s 4ms/step - loss: 0.2763 - accuracy: 0.8829 - val_loss: 0.3942 - val_accuracy: 0.8420\n",
      "Epoch 83/120\n",
      "313/313 [==============================] - 1s 4ms/step - loss: 0.2728 - accuracy: 0.8830 - val_loss: 0.3936 - val_accuracy: 0.8300\n",
      "Epoch 84/120\n",
      "313/313 [==============================] - 1s 4ms/step - loss: 0.2753 - accuracy: 0.8796 - val_loss: 0.3959 - val_accuracy: 0.8340\n",
      "Epoch 85/120\n",
      "313/313 [==============================] - 1s 4ms/step - loss: 0.2768 - accuracy: 0.8810 - val_loss: 0.3829 - val_accuracy: 0.8460\n",
      "Epoch 86/120\n",
      "313/313 [==============================] - 1s 4ms/step - loss: 0.2682 - accuracy: 0.8836 - val_loss: 0.4073 - val_accuracy: 0.8440\n",
      "Epoch 87/120\n",
      "313/313 [==============================] - 1s 4ms/step - loss: 0.2690 - accuracy: 0.8861 - val_loss: 0.4051 - val_accuracy: 0.8400\n",
      "Epoch 88/120\n",
      "313/313 [==============================] - 1s 4ms/step - loss: 0.2677 - accuracy: 0.8836 - val_loss: 0.4126 - val_accuracy: 0.8370\n",
      "Epoch 89/120\n",
      "313/313 [==============================] - 1s 4ms/step - loss: 0.2650 - accuracy: 0.8825 - val_loss: 0.4058 - val_accuracy: 0.8370\n",
      "Epoch 90/120\n",
      "313/313 [==============================] - 1s 4ms/step - loss: 0.2639 - accuracy: 0.8871 - val_loss: 0.4342 - val_accuracy: 0.8390\n",
      "Epoch 91/120\n",
      "313/313 [==============================] - 1s 4ms/step - loss: 0.2666 - accuracy: 0.8853 - val_loss: 0.4386 - val_accuracy: 0.8380\n",
      "Epoch 92/120\n",
      "313/313 [==============================] - 1s 4ms/step - loss: 0.2666 - accuracy: 0.8866 - val_loss: 0.4307 - val_accuracy: 0.8400\n",
      "Epoch 93/120\n",
      "313/313 [==============================] - 1s 4ms/step - loss: 0.2651 - accuracy: 0.8884 - val_loss: 0.4217 - val_accuracy: 0.8290\n",
      "Epoch 94/120\n",
      "313/313 [==============================] - 1s 4ms/step - loss: 0.2632 - accuracy: 0.8840 - val_loss: 0.4218 - val_accuracy: 0.8350\n",
      "Epoch 95/120\n",
      "313/313 [==============================] - 1s 4ms/step - loss: 0.2628 - accuracy: 0.8848 - val_loss: 0.4201 - val_accuracy: 0.8380\n",
      "Epoch 96/120\n",
      "313/313 [==============================] - 1s 4ms/step - loss: 0.2540 - accuracy: 0.8906 - val_loss: 0.4516 - val_accuracy: 0.8330\n",
      "Epoch 97/120\n",
      "313/313 [==============================] - 1s 4ms/step - loss: 0.2558 - accuracy: 0.8871 - val_loss: 0.4244 - val_accuracy: 0.8410\n",
      "Epoch 98/120\n",
      "313/313 [==============================] - 1s 4ms/step - loss: 0.2601 - accuracy: 0.8868 - val_loss: 0.4294 - val_accuracy: 0.8330\n",
      "Epoch 99/120\n",
      "313/313 [==============================] - 1s 4ms/step - loss: 0.2519 - accuracy: 0.8915 - val_loss: 0.4458 - val_accuracy: 0.8290\n",
      "Epoch 100/120\n",
      "313/313 [==============================] - 1s 4ms/step - loss: 0.2498 - accuracy: 0.8917 - val_loss: 0.4624 - val_accuracy: 0.8250\n",
      "Epoch 101/120\n",
      "313/313 [==============================] - 1s 4ms/step - loss: 0.2534 - accuracy: 0.8906 - val_loss: 0.4211 - val_accuracy: 0.8320\n",
      "Epoch 102/120\n",
      "313/313 [==============================] - 1s 4ms/step - loss: 0.2523 - accuracy: 0.8930 - val_loss: 0.4608 - val_accuracy: 0.8250\n",
      "Epoch 103/120\n",
      "313/313 [==============================] - 1s 4ms/step - loss: 0.2519 - accuracy: 0.8898 - val_loss: 0.4432 - val_accuracy: 0.8330\n",
      "Epoch 104/120\n",
      "313/313 [==============================] - 1s 4ms/step - loss: 0.2544 - accuracy: 0.8900 - val_loss: 0.4288 - val_accuracy: 0.8360\n",
      "Epoch 105/120\n",
      "313/313 [==============================] - 1s 4ms/step - loss: 0.2493 - accuracy: 0.8946 - val_loss: 0.4329 - val_accuracy: 0.8300\n",
      "Epoch 106/120\n",
      "313/313 [==============================] - 1s 4ms/step - loss: 0.2484 - accuracy: 0.8915 - val_loss: 0.4461 - val_accuracy: 0.8330\n",
      "Epoch 107/120\n",
      "313/313 [==============================] - 1s 4ms/step - loss: 0.2483 - accuracy: 0.8903 - val_loss: 0.4484 - val_accuracy: 0.8300\n",
      "Epoch 108/120\n",
      "313/313 [==============================] - 1s 4ms/step - loss: 0.2541 - accuracy: 0.8920 - val_loss: 0.4688 - val_accuracy: 0.8360\n",
      "Epoch 109/120\n",
      "313/313 [==============================] - 1s 4ms/step - loss: 0.2469 - accuracy: 0.8928 - val_loss: 0.4674 - val_accuracy: 0.8280\n",
      "Epoch 110/120\n",
      "313/313 [==============================] - 1s 4ms/step - loss: 0.2466 - accuracy: 0.8890 - val_loss: 0.4688 - val_accuracy: 0.8300\n",
      "Epoch 111/120\n",
      "313/313 [==============================] - 1s 3ms/step - loss: 0.2419 - accuracy: 0.8955 - val_loss: 0.4584 - val_accuracy: 0.8200\n",
      "Epoch 112/120\n",
      "313/313 [==============================] - 1s 3ms/step - loss: 0.2431 - accuracy: 0.8954 - val_loss: 0.4610 - val_accuracy: 0.8330\n",
      "Epoch 113/120\n",
      "313/313 [==============================] - 1s 3ms/step - loss: 0.2402 - accuracy: 0.8990 - val_loss: 0.4529 - val_accuracy: 0.8270\n",
      "Epoch 114/120\n",
      "313/313 [==============================] - 1s 3ms/step - loss: 0.2440 - accuracy: 0.8953 - val_loss: 0.4688 - val_accuracy: 0.8280\n"
     ]
    },
    {
     "name": "stdout",
     "output_type": "stream",
     "text": [
      "Epoch 115/120\n",
      "313/313 [==============================] - 1s 3ms/step - loss: 0.2318 - accuracy: 0.9016 - val_loss: 0.4900 - val_accuracy: 0.8280\n",
      "Epoch 116/120\n",
      "313/313 [==============================] - 1s 3ms/step - loss: 0.2391 - accuracy: 0.9014 - val_loss: 0.5452 - val_accuracy: 0.8230\n",
      "Epoch 117/120\n",
      "313/313 [==============================] - 1s 3ms/step - loss: 0.2323 - accuracy: 0.9017 - val_loss: 0.4985 - val_accuracy: 0.8250\n",
      "Epoch 118/120\n",
      "313/313 [==============================] - 1s 4ms/step - loss: 0.2399 - accuracy: 0.8981 - val_loss: 0.4888 - val_accuracy: 0.8320\n",
      "Epoch 119/120\n",
      "313/313 [==============================] - 1s 4ms/step - loss: 0.2368 - accuracy: 0.9001 - val_loss: 0.4669 - val_accuracy: 0.8270\n",
      "Epoch 120/120\n",
      "313/313 [==============================] - 1s 4ms/step - loss: 0.2361 - accuracy: 0.8991 - val_loss: 0.4704 - val_accuracy: 0.8300\n"
     ]
    }
   ],
   "source": [
    "# train\n",
    "history = model.fit([inputs_train, queries_train], answers_train,batch_size=32,epochs=120,validation_data=([inputs_test, queries_test], answers_test))"
   ]
  },
  {
   "cell_type": "markdown",
   "metadata": {},
   "source": [
    "### Saving the Model"
   ]
  },
  {
   "cell_type": "code",
   "execution_count": 58,
   "metadata": {},
   "outputs": [
    {
     "name": "stderr",
     "output_type": "stream",
     "text": [
      "/Users/surajnag/anaconda3/lib/python3.10/site-packages/keras/src/engine/training.py:3000: UserWarning: You are saving your model as an HDF5 file via `model.save()`. This file format is considered legacy. We recommend using instead the native Keras format, e.g. `model.save('my_model.keras')`.\n",
      "  saving_api.save_model(\n"
     ]
    }
   ],
   "source": [
    "filename = 'chatbot_120_epochs.h5'\n",
    "model.save(filename)"
   ]
  },
  {
   "cell_type": "markdown",
   "metadata": {},
   "source": [
    "## Evaluating the Model\n",
    "\n",
    "### Plotting Out Training History"
   ]
  },
  {
   "cell_type": "code",
   "execution_count": 61,
   "metadata": {},
   "outputs": [
    {
     "name": "stdout",
     "output_type": "stream",
     "text": [
      "dict_keys(['loss', 'accuracy', 'val_loss', 'val_accuracy'])\n"
     ]
    },
    {
     "data": {
      "image/png": "[encoded data removed]",
      "text/plain": [
       "<Figure size 640x480 with 1 Axes>"
      ]
     },
     "metadata": {},
     "output_type": "display_data"
    }
   ],
   "source": [
    "import matplotlib.pyplot as plt\n",
    "%matplotlib inline\n",
    "print(history.history.keys())\n",
    "# summarize history for accuracy\n",
    "plt.plot(history.history['accuracy'])\n",
    "plt.plot(history.history['val_accuracy'])\n",
    "plt.title('model accuracy')\n",
    "plt.ylabel('accuracy')\n",
    "plt.xlabel('epoch')\n",
    "plt.legend(['train', 'test'], loc='upper left')\n",
    "plt.show()"
   ]
  },
  {
   "cell_type": "markdown",
   "metadata": {},
   "source": [
    "### Evaluating on Given Test Set"
   ]
  },
  {
   "cell_type": "code",
   "execution_count": 62,
   "metadata": {},
   "outputs": [
    {
     "name": "stdout",
     "output_type": "stream",
     "text": [
      "32/32 [==============================] - 0s 946us/step\n"
     ]
    }
   ],
   "source": [
    "model.load_weights(filename)\n",
    "pred_results = model.predict(([inputs_test, queries_test]))"
   ]
  },
  {
   "cell_type": "code",
   "execution_count": 63,
   "metadata": {},
   "outputs": [
    {
     "data": {
      "text/plain": [
       "['Mary',\n",
       " 'got',\n",
       " 'the',\n",
       " 'milk',\n",
       " 'there',\n",
       " '.',\n",
       " 'John',\n",
       " 'moved',\n",
       " 'to',\n",
       " 'the',\n",
       " 'bedroom',\n",
       " '.']"
      ]
     },
     "execution_count": 63,
     "metadata": {},
     "output_type": "execute_result"
    }
   ],
   "source": [
    "test_data[0][0]"
   ]
  },
  {
   "cell_type": "code",
   "execution_count": 64,
   "metadata": {},
   "outputs": [
    {
     "name": "stdout",
     "output_type": "stream",
     "text": [
      "Mary got the milk there . John moved to the bedroom .\n"
     ]
    }
   ],
   "source": [
    "story =' '.join(word for word in test_data[0][0])\n",
    "print(story)"
   ]
  },
  {
   "cell_type": "code",
   "execution_count": 65,
   "metadata": {},
   "outputs": [
    {
     "name": "stdout",
     "output_type": "stream",
     "text": [
      "Is John in the kitchen ?\n"
     ]
    }
   ],
   "source": [
    "query = ' '.join(word for word in test_data[0][1])\n",
    "print(query)"
   ]
  },
  {
   "cell_type": "code",
   "execution_count": 66,
   "metadata": {},
   "outputs": [
    {
     "name": "stdout",
     "output_type": "stream",
     "text": [
      "True Test Answer from Data is: no\n"
     ]
    }
   ],
   "source": [
    "print(\"True Test Answer from Data is:\",test_data[0][2])"
   ]
  },
  {
   "cell_type": "code",
   "execution_count": 67,
   "metadata": {},
   "outputs": [
    {
     "name": "stdout",
     "output_type": "stream",
     "text": [
      "Predicted answer is:  no\n",
      "Probability of certainty was:  0.99998593\n"
     ]
    }
   ],
   "source": [
    "#Generate prediction from model\n",
    "val_max = np.argmax(pred_results[0])\n",
    "\n",
    "for key, val in tokenizer.word_index.items():\n",
    "    if val == val_max:\n",
    "        k = key\n",
    "\n",
    "print(\"Predicted answer is: \", k)\n",
    "print(\"Probability of certainty was: \", pred_results[0][val_max])"
   ]
  },
  {
   "cell_type": "markdown",
   "metadata": {},
   "source": [
    "## Writing Your Own Stories and Questions"
   ]
  },
  {
   "cell_type": "code",
   "execution_count": 68,
   "metadata": {},
   "outputs": [
    {
     "data": {
      "text/plain": [
       "{'.',\n",
       " '?',\n",
       " 'Daniel',\n",
       " 'Is',\n",
       " 'John',\n",
       " 'Mary',\n",
       " 'Sandra',\n",
       " 'apple',\n",
       " 'back',\n",
       " 'bathroom',\n",
       " 'bedroom',\n",
       " 'discarded',\n",
       " 'down',\n",
       " 'dropped',\n",
       " 'football',\n",
       " 'garden',\n",
       " 'got',\n",
       " 'grabbed',\n",
       " 'hallway',\n",
       " 'in',\n",
       " 'journeyed',\n",
       " 'kitchen',\n",
       " 'left',\n",
       " 'milk',\n",
       " 'moved',\n",
       " 'no',\n",
       " 'office',\n",
       " 'picked',\n",
       " 'put',\n",
       " 'the',\n",
       " 'there',\n",
       " 'to',\n",
       " 'took',\n",
       " 'travelled',\n",
       " 'up',\n",
       " 'went',\n",
       " 'yes'}"
      ]
     },
     "execution_count": 68,
     "metadata": {},
     "output_type": "execute_result"
    }
   ],
   "source": [
    "vocab"
   ]
  },
  {
   "cell_type": "code",
   "execution_count": 69,
   "metadata": {},
   "outputs": [
    {
     "data": {
      "text/plain": [
       "['John',\n",
       " 'left',\n",
       " 'the',\n",
       " 'kitchen',\n",
       " '.',\n",
       " 'Sandra',\n",
       " 'dropped',\n",
       " 'the',\n",
       " 'football',\n",
       " 'in',\n",
       " 'the',\n",
       " 'garden',\n",
       " '.']"
      ]
     },
     "execution_count": 69,
     "metadata": {},
     "output_type": "execute_result"
    }
   ],
   "source": [
    "my_story = \"John left the kitchen . Sandra dropped the football in the garden .\"\n",
    "my_story.split()"
   ]
  },
  {
   "cell_type": "code",
   "execution_count": 70,
   "metadata": {},
   "outputs": [],
   "source": [
    "my_question = \"Is the football in the garden ?\""
   ]
  },
  {
   "cell_type": "code",
   "execution_count": 71,
   "metadata": {},
   "outputs": [
    {
     "data": {
      "text/plain": [
       "['Is', 'the', 'football', 'in', 'the', 'garden', '?']"
      ]
     },
     "execution_count": 71,
     "metadata": {},
     "output_type": "execute_result"
    }
   ],
   "source": [
    "my_question.split()"
   ]
  },
  {
   "cell_type": "code",
   "execution_count": 72,
   "metadata": {},
   "outputs": [],
   "source": [
    "mydata = [(my_story.split(),my_question.split(),'yes')]"
   ]
  },
  {
   "cell_type": "code",
   "execution_count": 73,
   "metadata": {},
   "outputs": [],
   "source": [
    "my_story,my_ques,my_ans = vectorize_stories(mydata)"
   ]
  },
  {
   "cell_type": "code",
   "execution_count": 74,
   "metadata": {},
   "outputs": [
    {
     "name": "stdout",
     "output_type": "stream",
     "text": [
      "1/1 [==============================] - 0s 14ms/step\n"
     ]
    }
   ],
   "source": [
    "pred_results = model.predict(([ my_story, my_ques]))"
   ]
  },
  {
   "cell_type": "code",
   "execution_count": 75,
   "metadata": {},
   "outputs": [
    {
     "name": "stdout",
     "output_type": "stream",
     "text": [
      "Predicted answer is:  yes\n",
      "Probability of certainty was:  0.98227143\n"
     ]
    }
   ],
   "source": [
    "#Generate prediction from model\n",
    "val_max = np.argmax(pred_results[0])\n",
    "\n",
    "for key, val in tokenizer.word_index.items():\n",
    "    if val == val_max:\n",
    "        k = key\n",
    "\n",
    "print(\"Predicted answer is: \", k)\n",
    "print(\"Probability of certainty was: \", pred_results[0][val_max])"
   ]
  }
 ],
 "metadata": {
  "kernelspec": {
   "display_name": "Python 3 (ipykernel)",
   "language": "python",
   "name": "python3"
  },
  "language_info": {
   "codemirror_mode": {
    "name": "ipython",
    "version": 3
   },
   "file_extension": ".py",
   "mimetype": "text/x-python",
   "name": "python",
   "nbconvert_exporter": "python",
   "pygments_lexer": "ipython3",
   "version": "3.10.9"
  }
 },
 "nbformat": 4,
 "nbformat_minor": 2
}
